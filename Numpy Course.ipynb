{
 "cells": [
  {
   "cell_type": "markdown",
   "id": "58edcf16",
   "metadata": {},
   "source": [
    "# Numpy Full Course"
   ]
  },
  {
   "cell_type": "raw",
   "id": "b0efadc3",
   "metadata": {},
   "source": [
    "Module 1: Introduction to Numpy\n",
    "    1. Overview of Numpy\n",
    "        What is Numpy?\n",
    "        Why use Numpy?\n",
    "    2. Installing Numpy\n",
    "        Using pip to install Numpy\n",
    "    3. Importing Numpy\n",
    "        Importing Numpy in Python scripts and Jupyter notebooks\n",
    "\n",
    "Module 2: Numpy Basics\n",
    "    4. Arrays in Numpy\n",
    "        Creating 1D and 2D arrays\n",
    "        Understanding array attributes (shape, size, dtype)\n",
    "    5. Array Operations\n",
    "        Indexing and Slicing\n",
    "        Element-wise operations\n",
    "\n",
    "Module 3: Advanced Array Operations\n",
    "    6. Universal Functions (ufunc)\n",
    "        Introduction to ufuncs\n",
    "        Math operations with ufuncs\n",
    "    7. Aggregation Functions\n",
    "        Sum, mean, median, min, max\n",
    "        Axis-wise operations\n",
    "\n",
    "Module 4: Numpy and Linear Algebra\n",
    "    8. Linear Algebra with Numpy\n",
    "        Matrix multiplication\n",
    "        Inverse and transpose of matrices\n",
    "        Eigenvalues and eigenvectors\n",
    "\n",
    "Module 5: Numpy and Random\n",
    "    9. Random in Numpy\n",
    "        Generating random numbers\n",
    "        Random sampling\n",
    "\n",
    "Module 6: Numpy and Statistics\n",
    "    10. Statistical Functions in Numpy\n",
    "        Mean, variance, standard deviation\n",
    "        Correlation and covariance\n",
    "\n",
    "Module 7: Numpy Tips and Tricks\n",
    "    11. Memory Layout of Arrays\n",
    "        Understanding how Numpy stores data in memory\n",
    "    12. Broadcasting\n",
    "        Exploring how Numpy handles operations on arrays with different shapes\n",
    "\n",
    "Module 8: Case Studies and Applications\n",
    "    13. Real-world Examples\n",
    "        Solving mathematical problems\n",
    "        Image processing with Numpy\n",
    "\n",
    "Module 9: Best Practices and Optimization\n",
    "    14. Numpy Best Practices\n",
    "        Efficient coding with Numpy\n",
    "        Optimization techniques\n",
    "\n",
    "Module 10: Advanced Topics\n",
    "    15. Advanced Numpy Features\n",
    "        Structured arrays\n",
    "        Working with datetime and timedelta objects\n",
    "\n",
    "Module 11: Conclusion\n",
    "    16. Review and Further Resources\n",
    "        Recap of key concepts\n",
    "        Recommended resources for further learning"
   ]
  },
  {
   "cell_type": "markdown",
   "id": "0388ee3e",
   "metadata": {},
   "source": [
    "# Module 1: Introduction to Numpy"
   ]
  },
  {
   "cell_type": "raw",
   "id": "b9382a2a",
   "metadata": {},
   "source": [
    "1. Overview of Numpy:\n",
    "\n",
    "What is Numpy?\n",
    "    NumPy, which stands for Numerical Python, is a fundamental package for scientific computing with Python. It\n",
    "provides support for large, multi-dimensional arrays and matrices, along with mathematical functions to operate on these arrays.\n",
    "Numpy is a core library for numerical and scientific computing in Python and is used extensively in fields such as data science,\n",
    "machine learning, physics, and engineering."
   ]
  },
  {
   "cell_type": "raw",
   "id": "ea9724f0",
   "metadata": {},
   "source": [
    "Key features of Numpy include:\n",
    "*Arrays: Numpy provides a powerful array object that can be used for various mathematical operations. It is more efficient than\n",
    "Python lists for numerical operations.\n",
    "*Mathematical Functions: Numpy includes a wide range of mathematical functions that can be applied to arrays, making it easy\n",
    "to perform complex mathematical operations.\n",
    "*Linear Algebra: Numpy provides functions for linear algebra operations such as matrix multiplication, inversion, and\n",
    "decomposition.\n",
    "*Random Number Generation: Numpy includes functions for generating random numbers and random sampling."
   ]
  },
  {
   "cell_type": "raw",
   "id": "f55dab55",
   "metadata": {},
   "source": [
    "Why use Numpy?\n",
    "    *Efficiency: Numpy arrays are more memory-efficient and faster than Python lists for numerical operations. The underlying\n",
    "operations are implemented in C or Fortran.\n",
    "Convenience: Numpy provides a large number of functions for performing mathematical and logical operations on arrays,\n",
    "making it easy to work with numerical data.\n",
    "    *Interoperability: Numpy integrates well with other libraries in the scientific computing ecosystem, such as Pandas, Matplotlib,\n",
    "and Scikit-learn.\n",
    "Broadcasting: Numpy allows for broadcasting, which simplifies operations on arrays of different shapes."
   ]
  },
  {
   "cell_type": "raw",
   "id": "873b1468",
   "metadata": {},
   "source": [
    "2. Installing Numpy:\n",
    "    To install Numpy, you can use the following command in your terminal or command prompt:"
   ]
  },
  {
   "cell_type": "code",
   "execution_count": 1,
   "id": "716db16c",
   "metadata": {},
   "outputs": [
    {
     "name": "stdout",
     "output_type": "stream",
     "text": [
      "Requirement already satisfied: numpy in c:\\users\\admin\\anaconda3\\lib\\site-packages (1.20.3)\n"
     ]
    }
   ],
   "source": [
    "!pip install numpy"
   ]
  },
  {
   "cell_type": "raw",
   "id": "7d323f68",
   "metadata": {},
   "source": [
    "This command installs the latest version of Numpy from the Python Package Index (PyPI). Make sure you have Python and pip\n",
    "installed on your system before running this command."
   ]
  },
  {
   "cell_type": "raw",
   "id": "9bdbc92d",
   "metadata": {},
   "source": [
    "3. Importing Numpy:\n",
    "\n",
    "Once Numpy is installed, you can import it into your Python scripts or Jupyter notebooks using the import statement:"
   ]
  },
  {
   "cell_type": "code",
   "execution_count": 2,
   "id": "0271b6f1",
   "metadata": {},
   "outputs": [],
   "source": [
    "import numpy as np"
   ]
  },
  {
   "cell_type": "raw",
   "id": "564856d5",
   "metadata": {},
   "source": [
    "It's a common convention to alias Numpy as np for brevity. Now, you can use np to access Numpy's functions and objects.\n",
    "Now, you're ready to start working with Numpy! The subsequent modules will cover the basics of creating arrays, performing\n",
    "operations, and exploring more advanced features"
   ]
  },
  {
   "cell_type": "markdown",
   "id": "656d65d0",
   "metadata": {},
   "source": [
    "# Module 2: Numpy Basics"
   ]
  },
  {
   "cell_type": "raw",
   "id": "7862c06b",
   "metadata": {},
   "source": [
    "4. Arrays in Numpy:\n",
    "    \n",
    "Creating 1D and 2D Arrays: In Numpy, you can create arrays using the np.array() function. Here's an example of creating 1D and\n",
    "2D arrays:"
   ]
  },
  {
   "cell_type": "code",
   "execution_count": 3,
   "id": "960443ed",
   "metadata": {},
   "outputs": [
    {
     "name": "stdout",
     "output_type": "stream",
     "text": [
      "1D Array:\n",
      "[1 2 3 4 5]\n",
      "\n",
      "2D Array:\n",
      "[[1 2 3]\n",
      " [4 5 6]\n",
      " [7 8 9]]\n"
     ]
    }
   ],
   "source": [
    "import numpy as np\n",
    "# Creating a 1D array\n",
    "arr_1d = np.array([1, 2, 3, 4, 5])\n",
    "print(\"1D Array:\")\n",
    "print(arr_1d)\n",
    "# Creating a 2D array\n",
    "arr_2d = np.array([[1, 2, 3], [4, 5, 6], [7, 8, 9]])\n",
    "print(\"\\n2D Array:\")\n",
    "print(arr_2d)"
   ]
  },
  {
   "cell_type": "raw",
   "id": "595dc14b",
   "metadata": {},
   "source": [
    "Understanding Array Attributes: Numpy arrays have several attributes that provide information about the array, such as its shape, size, and data type."
   ]
  },
  {
   "cell_type": "code",
   "execution_count": 4,
   "id": "7026f7dc",
   "metadata": {},
   "outputs": [
    {
     "name": "stdout",
     "output_type": "stream",
     "text": [
      "Shape of arr_1d: (5,)\n",
      "Shape of arr_2d: (3, 3)\n",
      "\n",
      "Number of elements in arr_1d: 5\n",
      "Number of elements in arr_2d: 9\n",
      "\n",
      "Data type of arr_1d: int32\n",
      "Data type of arr_2d: int32\n"
     ]
    }
   ],
   "source": [
    "# Array attributes\n",
    "print(\"Shape of arr_1d:\", arr_1d.shape)\n",
    "print(\"Shape of arr_2d:\", arr_2d.shape)\n",
    "print(\"\\nNumber of elements in arr_1d:\", arr_1d.size)\n",
    "print(\"Number of elements in arr_2d:\", arr_2d.size)\n",
    "print(\"\\nData type of arr_1d:\", arr_1d.dtype)\n",
    "print(\"Data type of arr_2d:\", arr_2d.dtype)"
   ]
  },
  {
   "cell_type": "raw",
   "id": "88f972ea",
   "metadata": {},
   "source": [
    "5. Array Operations:\n",
    "Indexing and Slicing: Numpy arrays support indexing and slicing similar to Python lists. Indexing starts from 0."
   ]
  },
  {
   "cell_type": "code",
   "execution_count": 5,
   "id": "ff6609a8",
   "metadata": {},
   "outputs": [
    {
     "name": "stdout",
     "output_type": "stream",
     "text": [
      "First element of arr_1d: 1\n",
      "Element at row 1, column 2 of arr_2d: 6\n",
      "\n",
      "Slicing arr_1d from index 1 to 3: [2 3 4]\n",
      "Slicing arr_2d to get the first two rows and columns: [[1 2]\n",
      " [4 5]]\n"
     ]
    }
   ],
   "source": [
    "# Indexing\n",
    "print(\"First element of arr_1d:\", arr_1d[0])\n",
    "print(\"Element at row 1, column 2 of arr_2d:\", arr_2d[1, 2])\n",
    "# Slicing\n",
    "print(\"\\nSlicing arr_1d from index 1 to 3:\", arr_1d[1:4])\n",
    "print(\"Slicing arr_2d to get the first two rows and columns:\", arr_2d[:2, :2])"
   ]
  },
  {
   "cell_type": "raw",
   "id": "e2aa4d6c",
   "metadata": {},
   "source": [
    "Element-wise Operations: Numpy allows for element-wise operations, making it easy to perform mathematical operations on entire\n",
    "arrays."
   ]
  },
  {
   "cell_type": "code",
   "execution_count": 6,
   "id": "d5570d54",
   "metadata": {},
   "outputs": [
    {
     "name": "stdout",
     "output_type": "stream",
     "text": [
      "\n",
      "Element-wise addition:\n",
      "[5 7 9]\n",
      "\n",
      "Element-wise multiplication:\n",
      "[ 4 10 18]\n"
     ]
    }
   ],
   "source": [
    "# Element-wise operations\n",
    "arr1 = np.array([1, 2, 3])\n",
    "arr2 = np.array([4, 5, 6])\n",
    "# Addition\n",
    "result_add = arr1 + arr2\n",
    "print(\"\\nElement-wise addition:\")\n",
    "print(result_add)\n",
    "# Multiplication\n",
    "result_mul = arr1 * arr2\n",
    "print(\"\\nElement-wise multiplication:\")\n",
    "print(result_mul)\n"
   ]
  },
  {
   "cell_type": "raw",
   "id": "3a73dec7",
   "metadata": {},
   "source": [
    "This covers the basics of creating arrays and performing operations with Numpy. In the next module, we'll explore more advanced\n",
    "array operations and universal functions (ufunc)."
   ]
  },
  {
   "cell_type": "markdown",
   "id": "d418bbde",
   "metadata": {},
   "source": [
    "# Module 3: Advanced Array Operations"
   ]
  },
  {
   "cell_type": "raw",
   "id": "43334852",
   "metadata": {},
   "source": [
    "6. Universal Functions (ufunc):\n",
    "\n",
    "Introduction to ufuncs: Universal functions (ufunc) in Numpy are functions that operate element-wise on arrays. They are a key\n",
    "component of Numpy and provide efficient computation on large arrays."
   ]
  },
  {
   "cell_type": "code",
   "execution_count": 7,
   "id": "4e4ff201",
   "metadata": {},
   "outputs": [
    {
     "name": "stdout",
     "output_type": "stream",
     "text": [
      "Square root of arr: [1.         1.41421356 1.73205081 2.         2.23606798]\n",
      "\n",
      "Sin of arr: [ 0.84147098  0.90929743  0.14112001 -0.7568025  -0.95892427]\n",
      "Cos of arr: [ 0.54030231 -0.41614684 -0.9899925  -0.65364362  0.28366219]\n"
     ]
    }
   ],
   "source": [
    "import numpy as np\n",
    "# Creating an array\n",
    "arr = np.array([1, 2, 3, 4, 5])\n",
    "# Square root using ufunc\n",
    "result_sqrt = np.sqrt(arr)\n",
    "print(\"Square root of arr:\", result_sqrt)\n",
    "# Trigonometric functions using ufunc\n",
    "result_sin = np.sin(arr)\n",
    "result_cos = np.cos(arr)\n",
    "print(\"\\nSin of arr:\", result_sin)\n",
    "print(\"Cos of arr:\", result_cos)"
   ]
  },
  {
   "cell_type": "raw",
   "id": "652173fb",
   "metadata": {},
   "source": [
    "Math Operations with ufuncs: Ufuncs support various mathematical operations, and they can operate on entire arrays without the\n",
    "need for explicit looping."
   ]
  },
  {
   "cell_type": "code",
   "execution_count": 8,
   "id": "61f4544a",
   "metadata": {},
   "outputs": [
    {
     "name": "stdout",
     "output_type": "stream",
     "text": [
      "\n",
      "Element-wise addition using ufunc:\n",
      "[5 7 9]\n",
      "\n",
      "Element-wise multiplication using ufunc:\n",
      "[ 4 10 18]\n"
     ]
    }
   ],
   "source": [
    "# Math operations with ufuncs\n",
    "arr1 = np.array([1, 2, 3])\n",
    "arr2 = np.array([4, 5, 6])\n",
    "# Element-wise addition\n",
    "result_add = np.add(arr1, arr2)\n",
    "print(\"\\nElement-wise addition using ufunc:\")\n",
    "print(result_add)\n",
    "# Element-wise multiplication\n",
    "result_mul = np.multiply(arr1, arr2)\n",
    "print(\"\\nElement-wise multiplication using ufunc:\")\n",
    "print(result_mul)"
   ]
  },
  {
   "cell_type": "raw",
   "id": "3b6bec59",
   "metadata": {},
   "source": [
    "7. Aggregation Functions:\n",
    "Sum, Mean, Median, Min, Max: Numpy provides aggregation functions for summarizing data in arrays."
   ]
  },
  {
   "cell_type": "code",
   "execution_count": 9,
   "id": "00bd9333",
   "metadata": {},
   "outputs": [
    {
     "name": "stdout",
     "output_type": "stream",
     "text": [
      "\n",
      "Sum of arr: 15\n",
      "Mean of arr: 3.0\n",
      "Median of arr: 3.0\n",
      "Minimum of arr: 1\n",
      "Maximum of arr: 5\n"
     ]
    }
   ],
   "source": [
    "# Aggregation functions\n",
    "arr = np.array([1, 2, 3, 4, 5])\n",
    "# Sum of all elements\n",
    "sum_arr = np.sum(arr)\n",
    "print(\"\\nSum of arr:\", sum_arr)\n",
    "# Mean of all elements\n",
    "mean_arr = np.mean(arr)\n",
    "print(\"Mean of arr:\", mean_arr)\n",
    "# Median of arr\n",
    "median_arr = np.median(arr)\n",
    "print(\"Median of arr:\", median_arr)\n",
    "# Minimum and maximum elements\n",
    "min_arr = np.min(arr)\n",
    "max_arr = np.max(arr)\n",
    "print(\"Minimum of arr:\", min_arr)\n",
    "print(\"Maximum of arr:\", max_arr)"
   ]
  },
  {
   "cell_type": "raw",
   "id": "5d5224c0",
   "metadata": {},
   "source": [
    "Axis-wise Operations: You can perform aggregation operations along a specific axis of a multi-dimensional array."
   ]
  },
  {
   "cell_type": "code",
   "execution_count": 10,
   "id": "3c26c128",
   "metadata": {},
   "outputs": [
    {
     "name": "stdout",
     "output_type": "stream",
     "text": [
      "\n",
      "Sum along columns:\n",
      "[5 7 9]\n",
      "Mean along rows:\n",
      "[2. 5.]\n"
     ]
    }
   ],
   "source": [
    "# Axis-wise operations\n",
    "arr_2d = np.array([[1, 2, 3], [4, 5, 6]])\n",
    "# Sum along columns (axis=0)\n",
    "sum_columns = np.sum(arr_2d, axis=0)\n",
    "print(\"\\nSum along columns:\")\n",
    "print(sum_columns)\n",
    "# Mean along rows (axis=1)\n",
    "mean_rows = np.mean(arr_2d, axis=1)\n",
    "print(\"Mean along rows:\")\n",
    "print(mean_rows)"
   ]
  },
  {
   "cell_type": "raw",
   "id": "2c4771a1",
   "metadata": {},
   "source": [
    "This module covers the use of universal functions (ufunc) and aggregation functions in Numpy. In the next module, we'll explore\n",
    "Numpy's capabilities in linear algebra."
   ]
  },
  {
   "cell_type": "code",
   "execution_count": null,
   "id": "12688eed",
   "metadata": {},
   "outputs": [],
   "source": []
  }
 ],
 "metadata": {
  "kernelspec": {
   "display_name": "Python 3 (ipykernel)",
   "language": "python",
   "name": "python3"
  },
  "language_info": {
   "codemirror_mode": {
    "name": "ipython",
    "version": 3
   },
   "file_extension": ".py",
   "mimetype": "text/x-python",
   "name": "python",
   "nbconvert_exporter": "python",
   "pygments_lexer": "ipython3",
   "version": "3.9.7"
  }
 },
 "nbformat": 4,
 "nbformat_minor": 5
}
